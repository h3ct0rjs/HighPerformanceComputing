{
 "cells": [
  {
   "cell_type": "markdown",
   "metadata": {},
   "source": [
    "## 08/11/2017  OpenMP \n",
    "\n",
    "Modelo de memoria compartida donde diferentes nucleos hacen uso de la memoria compartida, paralelismo esta basado en hilos (*threads*) la idea es aprovechar usar la tendencia multinucleo para hacer procesamiento y optimizar al maximo. Se plantea que el valor optimo de hilos asignado es igual al numero de procesadores o soportados por el procesador. \n",
    "\n",
    "* Se tiene control total de lo que se hace\n",
    "* Debe ser explicito donde se realiza el paralelismo\n",
    "\n",
    "** Modelo de Fork Join** \n",
    "\n",
    "<img src=\"https://upload.wikimedia.org/wikipedia/commons/thumb/f/f1/Fork_join.svg/1200px-Fork_join.svg.png\"/>\n",
    "\n",
    "\n",
    "### Recursos Electronicos\n",
    "\n",
    "[https://computing.llnl.gov/tutorials/openMP/](https://computing.llnl.gov/tutorials/openMP/)\n",
    "\n",
    "***Revisar : Threads en C/C++, Modelo Fork-Join ***"
   ]
  }
 ],
 "metadata": {
  "kernelspec": {
   "display_name": "Python 3",
   "language": "python",
   "name": "python3"
  },
  "language_info": {
   "codemirror_mode": {
    "name": "ipython",
    "version": 3
   },
   "file_extension": ".py",
   "mimetype": "text/x-python",
   "name": "python",
   "nbconvert_exporter": "python",
   "pygments_lexer": "ipython3",
   "version": "3.5.4rc1"
  }
 },
 "nbformat": 4,
 "nbformat_minor": 2
}
